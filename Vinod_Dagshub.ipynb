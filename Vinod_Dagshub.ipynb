{
  "nbformat": 4,
  "nbformat_minor": 0,
  "metadata": {
    "colab": {
      "provenance": [],
      "authorship_tag": "ABX9TyMnhYytoE5p4e20IJvUAu8M",
      "include_colab_link": true
    },
    "kernelspec": {
      "name": "python3",
      "display_name": "Python 3"
    },
    "language_info": {
      "name": "python"
    }
  },
  "cells": [
    {
      "cell_type": "markdown",
      "metadata": {
        "id": "view-in-github",
        "colab_type": "text"
      },
      "source": [
        "<a href=\"https://colab.research.google.com/github/VinodPungle/dagshubdemo/blob/main/Vinod_Dagshub.ipynb\" target=\"_parent\"><img src=\"https://colab.research.google.com/assets/colab-badge.svg\" alt=\"Open In Colab\"/></a>"
      ]
    },
    {
      "cell_type": "code",
      "execution_count": null,
      "metadata": {
        "id": "odmA6VNeOCU2"
      },
      "outputs": [],
      "source": [
        "import pandas as pd\n",
        "import numpy as np\n",
        "from sklearn.model_selection import train_test_split\n",
        "from sklearn.linear_model import LogisticRegression\n",
        "from sklearn.ensemble import RandomForestClassifier\n",
        "from sklearn.svm import SVC\n",
        "import xgboost as xgb\n",
        "from sklearn.metrics import classification_report\n",
        "import pickle\n",
        "!pip install mlflow dagshub\n",
        "import mlflow\n",
        "import dagshub\n"
      ]
    },
    {
      "cell_type": "code",
      "source": [
        "# Load and prepare data\n",
        "data = '/content/heart.csv'\n",
        "df = pd.read_csv(data)\n",
        "X = df.drop('target', axis=1)\n",
        "y = df.target\n"
      ],
      "metadata": {
        "id": "eAnco987OWg-"
      },
      "execution_count": 6,
      "outputs": []
    },
    {
      "cell_type": "code",
      "metadata": {
        "id": "d6ceddbd"
      },
      "source": [
        "# Split data\n",
        "X_train, X_test, y_train, y_test = train_test_split(X, y, test_size=0.20, random_state=10)\n",
        "\n",
        "# Handle missing values\n",
        "from sklearn.impute import SimpleImputer\n",
        "fill = SimpleImputer(missing_values=0, strategy=\"mean\")\n",
        "X_train = fill.fit_transform(X_train)\n",
        "X_test = fill.transform(X_test)\n"
      ],
      "execution_count": 7,
      "outputs": []
    },
    {
      "cell_type": "code",
      "source": [
        "# Initialize DagsHub\n",
        "import dagshub\n",
        "dagshub.init(repo_owner='vinod.pungle', repo_name='dagshubdemo', mlflow=True)"
      ],
      "metadata": {
        "colab": {
          "base_uri": "https://localhost:8080/",
          "height": 49
        },
        "id": "HFqP-cfcP-Z0",
        "outputId": "bcec15f8-ae10-4235-fd52-bd98caf8f2f4"
      },
      "execution_count": 10,
      "outputs": [
        {
          "output_type": "display_data",
          "data": {
            "text/plain": [
              "Initialized MLflow to track repo \u001b[32m\"vinod.pungle/dagshubdemo\"\u001b[0m\n"
            ],
            "text/html": [
              "<pre style=\"white-space:pre;overflow-x:auto;line-height:normal;font-family:Menlo,'DejaVu Sans Mono',consolas,'Courier New',monospace\">Initialized MLflow to track repo <span style=\"color: #008000; text-decoration-color: #008000\">\"vinod.pungle/dagshubdemo\"</span>\n",
              "</pre>\n"
            ]
          },
          "metadata": {}
        },
        {
          "output_type": "display_data",
          "data": {
            "text/plain": [
              "Repository vinod.pungle/dagshubdemo initialized!\n"
            ],
            "text/html": [
              "<pre style=\"white-space:pre;overflow-x:auto;line-height:normal;font-family:Menlo,'DejaVu Sans Mono',consolas,'Courier New',monospace\">Repository vinod.pungle/dagshubdemo initialized!\n",
              "</pre>\n"
            ]
          },
          "metadata": {}
        }
      ]
    },
    {
      "cell_type": "code",
      "source": [
        "# Define models and their parameters\n",
        "models = {\n",
        "    'logistic_regression': {\n",
        "        'model': LogisticRegression(),\n",
        "        'params': {\n",
        "            \"solver\": \"lbfgs\",\n",
        "            \"max_iter\": 45,\n",
        "            \"multi_class\": \"auto\",\n",
        "            \"random_state\": 123\n",
        "        }\n",
        "    },\n",
        "    'random_forest': {\n",
        "        'model': RandomForestClassifier(),\n",
        "        'params': {\n",
        "            'n_estimators': 100,\n",
        "            'max_depth': 10,\n",
        "            'random_state': 123\n",
        "        }\n",
        "    },\n",
        "    'xgboost': {\n",
        "        'model': xgb.XGBClassifier(),\n",
        "        'params': {\n",
        "            'n_estimators': 100,\n",
        "            'max_depth': 3,\n",
        "            'learning_rate': 0.1,\n",
        "            'random_state': 123\n",
        "        }\n",
        "    },\n",
        "    'svm': {\n",
        "        'model': SVC(),\n",
        "        'params': {\n",
        "            'kernel': 'rbf',\n",
        "            'C': 1.0,\n",
        "            'random_state': 123\n",
        "        }\n",
        "    }\n",
        "}\n"
      ],
      "metadata": {
        "id": "YckWkdUMSUBK"
      },
      "execution_count": 11,
      "outputs": []
    },
    {
      "cell_type": "code",
      "source": [
        "#!pip install mlflow\n",
        "import mlflow\n",
        "\n",
        "# Train and log each model\n",
        "mlflow.set_experiment(\"Multi_Classifier_Diabetes_Experiment\")\n",
        "\n",
        "for model_name, model_info in models.items():\n",
        "    print(f\"\\nTraining {model_name}...\")\n",
        "\n",
        "    with mlflow.start_run(run_name=model_name):\n",
        "        # Set tags\n",
        "        mlflow.set_tag(\"author\", \"Vinod\")\n",
        "        mlflow.set_tag(\"model_type\", model_name)\n",
        "\n",
        "        # Train model\n",
        "        model = model_info['model']\n",
        "        model.set_params(**model_info['params'])\n",
        "        model.fit(X_train, y_train)\n",
        "\n",
        "        # Make predictions\n",
        "        y_pred = model.predict(X_test)\n",
        "\n",
        "        # Get metrics\n",
        "        report_dict = classification_report(y_test, y_pred, output_dict=True)\n",
        "\n",
        "        # Log parameters\n",
        "        mlflow.log_params(model_info['params'])\n",
        "\n",
        "        # Log metrics\n",
        "        metrics = {\n",
        "            'accuracy': report_dict['accuracy'],\n",
        "            'recall_class_0': report_dict['0']['recall'],\n",
        "            'recall_class_1': report_dict['1']['recall'],\n",
        "            'f1_score_macro': report_dict['macro avg']['f1-score']\n",
        "        }\n",
        "        mlflow.log_metrics(metrics)\n",
        "\n",
        "        # Save and log model\n",
        "        filename = f'{model_name}_model.pkl'\n",
        "        pickle.dump(model, open(filename, 'wb'))\n",
        "        mlflow.log_artifact(filename, model_name)\n",
        "\n",
        "        print(f\"{model_name} Results:\")\n",
        "        print(f\"Accuracy: {metrics['accuracy']:.4f}\")\n",
        "        print(f\"F1 Score (macro): {metrics['f1_score_macro']:.4f}\")\n",
        "\n",
        "print(\"\\nAll models have been trained and logged to MLflow\")"
      ],
      "metadata": {
        "colab": {
          "base_uri": "https://localhost:8080/"
        },
        "id": "sKXX2-v3TTNA",
        "outputId": "c0a8f248-7849-4e62-fbf8-f3fa416d5f61"
      },
      "execution_count": 14,
      "outputs": [
        {
          "output_type": "stream",
          "name": "stdout",
          "text": [
            "\n",
            "Training logistic_regression...\n"
          ]
        },
        {
          "output_type": "stream",
          "name": "stderr",
          "text": [
            "/usr/local/lib/python3.12/dist-packages/sklearn/linear_model/_logistic.py:1247: FutureWarning: 'multi_class' was deprecated in version 1.5 and will be removed in 1.7. From then on, it will always use 'multinomial'. Leave it to its default value to avoid this warning.\n",
            "  warnings.warn(\n",
            "/usr/local/lib/python3.12/dist-packages/sklearn/linear_model/_logistic.py:465: ConvergenceWarning: lbfgs failed to converge (status=1):\n",
            "STOP: TOTAL NO. OF ITERATIONS REACHED LIMIT.\n",
            "\n",
            "Increase the number of iterations (max_iter) or scale the data as shown in:\n",
            "    https://scikit-learn.org/stable/modules/preprocessing.html\n",
            "Please also refer to the documentation for alternative solver options:\n",
            "    https://scikit-learn.org/stable/modules/linear_model.html#logistic-regression\n",
            "  n_iter_i = _check_optimize_result(\n"
          ]
        },
        {
          "output_type": "stream",
          "name": "stdout",
          "text": [
            "logistic_regression Results:\n",
            "Accuracy: 0.8361\n",
            "F1 Score (macro): 0.8339\n",
            "🏃 View run logistic_regression at: https://dagshub.com/vinod.pungle/dagshubdemo.mlflow/#/experiments/0/runs/6824dc30e50d4ffe9c25bdd0c6297d89\n",
            "🧪 View experiment at: https://dagshub.com/vinod.pungle/dagshubdemo.mlflow/#/experiments/0\n",
            "\n",
            "Training random_forest...\n",
            "random_forest Results:\n",
            "Accuracy: 0.7705\n",
            "F1 Score (macro): 0.7699\n",
            "🏃 View run random_forest at: https://dagshub.com/vinod.pungle/dagshubdemo.mlflow/#/experiments/0/runs/3ca79e6912a94949b2ecb0ca4a434d19\n",
            "🧪 View experiment at: https://dagshub.com/vinod.pungle/dagshubdemo.mlflow/#/experiments/0\n",
            "\n",
            "Training xgboost...\n",
            "xgboost Results:\n",
            "Accuracy: 0.7705\n",
            "F1 Score (macro): 0.7699\n",
            "🏃 View run xgboost at: https://dagshub.com/vinod.pungle/dagshubdemo.mlflow/#/experiments/0/runs/f6b4d449aa314323a186a4161440dbdd\n",
            "🧪 View experiment at: https://dagshub.com/vinod.pungle/dagshubdemo.mlflow/#/experiments/0\n",
            "\n",
            "Training svm...\n",
            "svm Results:\n",
            "Accuracy: 0.5902\n",
            "F1 Score (macro): 0.5788\n",
            "🏃 View run svm at: https://dagshub.com/vinod.pungle/dagshubdemo.mlflow/#/experiments/0/runs/3fd092cae40d4b0eb29b2a9121171d7a\n",
            "🧪 View experiment at: https://dagshub.com/vinod.pungle/dagshubdemo.mlflow/#/experiments/0\n",
            "\n",
            "All models have been trained and logged to MLflow\n"
          ]
        }
      ]
    }
  ]
}